{
 "cells": [
  {
   "cell_type": "code",
   "execution_count": 1,
   "metadata": {},
   "outputs": [],
   "source": [
    "import numpy as np\n",
    "import matplotlib.pyplot as plt\n",
    "from TLE_ import*\n",
    "from TLE_file import*"
   ]
  },
  {
   "cell_type": "code",
   "execution_count": 2,
   "metadata": {},
   "outputs": [
    {
     "name": "stdout",
     "output_type": "stream",
     "text": [
      "\n",
      "TLE data for \u001b[95mISS (ZARYA)\n",
      "\u001b[0m \n",
      "NORAD ID: 25544U\n",
      "Epoch: 24136.79884226\n",
      "Inclination: 51.6378\n",
      "Right ascension of the ascending node: 115.9329\n",
      "Eccentricity: 0003286\n",
      "Argument of perigee: 171.4661\n",
      "Mean anomaly: 259.6570\n",
      "Mean motion: 15.51363823453527\n",
      "\n"
     ]
    }
   ],
   "source": [
    "TLE_objs = TLE_obj_from_file(\"TLE.txt\")\n",
    "print(TLE_objs[0])"
   ]
  }
 ],
 "metadata": {
  "kernelspec": {
   "display_name": "Python 3",
   "language": "python",
   "name": "python3"
  },
  "language_info": {
   "codemirror_mode": {
    "name": "ipython",
    "version": 3
   },
   "file_extension": ".py",
   "mimetype": "text/x-python",
   "name": "python",
   "nbconvert_exporter": "python",
   "pygments_lexer": "ipython3",
   "version": "3.12.1"
  }
 },
 "nbformat": 4,
 "nbformat_minor": 2
}
